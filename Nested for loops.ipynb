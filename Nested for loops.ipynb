{
 "cells": [
  {
   "cell_type": "code",
   "execution_count": 27,
   "source": [
    "n=5;\r\n",
    "for i in range(n):\r\n",
    "    for j in range(i):\r\n",
    "        print ('* ', end=\"\")\r\n",
    "    print('')\r\n",
    "for i in range(n,0,-1):\r\n",
    "    for j in range(i):\r\n",
    "        print('* ', end=\"\")\r\n",
    "    print('')"
   ],
   "outputs": [
    {
     "output_type": "stream",
     "name": "stdout",
     "text": [
      "\n",
      "* \n",
      "* * \n",
      "* * * \n",
      "* * * * \n",
      "* * * * * \n",
      "* * * * \n",
      "* * * \n",
      "* * \n",
      "* \n"
     ]
    }
   ],
   "metadata": {}
  },
  {
   "cell_type": "code",
   "execution_count": 28,
   "source": [
    "count=0\r\n",
    "for i in range(1500,1601):\r\n",
    "    if (i%5==0) and (i%7==0):\r\n",
    "        count+=1\r\n",
    "        print(i, count)"
   ],
   "outputs": [
    {
     "output_type": "stream",
     "name": "stdout",
     "text": [
      "1505 1\n",
      "1540 2\n",
      "1575 3\n"
     ]
    }
   ],
   "metadata": {}
  },
  {
   "cell_type": "code",
   "execution_count": 32,
   "source": [
    "word='intelligent systems'\r\n",
    "for char in range(len(word)-1,-1,-1):\r\n",
    "    print(word[char],end='')"
   ],
   "outputs": [
    {
     "output_type": "stream",
     "name": "stdout",
     "text": [
      "smetsys tnegilletni"
     ]
    }
   ],
   "metadata": {}
  },
  {
   "cell_type": "code",
   "execution_count": 35,
   "source": [
    "even=0\r\n",
    "odd=[]\r\n",
    "numbers = (1, 2, 3, 4, 5, 6, 7, 8, 9) \r\n",
    "for i in numbers:\r\n",
    "    if i%2==0:\r\n",
    "        even+=1\r\n",
    "    else:\r\n",
    "        odd.append(i)\r\n",
    "print(odd)"
   ],
   "outputs": [
    {
     "output_type": "stream",
     "name": "stdout",
     "text": [
      "[1, 3, 5, 7, 9]\n"
     ]
    }
   ],
   "metadata": {}
  },
  {
   "cell_type": "code",
   "execution_count": 36,
   "source": [
    "for i in range(0,7):\r\n",
    "    if i == 3 :\r\n",
    "        continue\r\n",
    "    if i ==6:\r\n",
    "        break\r\n",
    "    else:\r\n",
    "        print(i, end=' ')"
   ],
   "outputs": [
    {
     "output_type": "stream",
     "name": "stdout",
     "text": [
      "0 1 2 4 5 "
     ]
    }
   ],
   "metadata": {}
  },
  {
   "cell_type": "code",
   "execution_count": 37,
   "source": [
    "even= [0,2,4,6,8]\r\n",
    "for i in range(100,401):\r\n",
    "    s=str(i)\r\n",
    "    if (int(s[0]))%2==0 and int(s[1])%2==0 and int(s[2])%2==0:\r\n",
    "        print(i, end=',')"
   ],
   "outputs": [
    {
     "output_type": "stream",
     "name": "stdout",
     "text": [
      "200,202,204,206,208,220,222,224,226,228,240,242,244,246,248,260,262,264,266,268,280,282,284,286,288,400,"
     ]
    }
   ],
   "metadata": {}
  }
 ],
 "metadata": {
  "orig_nbformat": 4,
  "language_info": {
   "name": "python",
   "version": "3.8.3",
   "mimetype": "text/x-python",
   "codemirror_mode": {
    "name": "ipython",
    "version": 3
   },
   "pygments_lexer": "ipython3",
   "nbconvert_exporter": "python",
   "file_extension": ".py"
  },
  "kernelspec": {
   "name": "python3",
   "display_name": "Python 3.8.3 64-bit ('base': conda)"
  },
  "interpreter": {
   "hash": "46182d5f787c7496ac3d2ccd0c5d8bf41bffd3ac5e5e93146af501a7f382c533"
  }
 },
 "nbformat": 4,
 "nbformat_minor": 2
}